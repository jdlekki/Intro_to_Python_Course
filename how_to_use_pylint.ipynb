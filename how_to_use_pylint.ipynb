from myrepolib import repomod
!cli.py --name John
!pip install pylint
!pylint -disable=R,C myrepolib cli
